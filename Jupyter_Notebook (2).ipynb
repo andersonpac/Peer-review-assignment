{
 "cells": [
  {
   "cell_type": "markdown",
   "metadata": {},
   "source": [
    "<center>\n",
    "    <img src=\"https://cf-courses-data.s3.us.cloud-object-storage.appdomain.cloud/IBMDeveloperSkillsNetwork-DS0105EN-SkillsNetwork/labs/Module2/images/SN_web_lightmode.png\" width=\"300\" alt=\"cognitiveclass.ai logo\">\n",
    "</center>\n"
   ]
  },
  {
   "cell_type": "markdown",
   "metadata": {},
   "source": [
    "#### Add your code below following the instructions given in the course\n"
   ]
  },
  {
   "cell_type": "markdown",
   "metadata": {},
   "source": [
    "# My Jupyter Notebook on IBM Watson Studio"
   ]
  },
  {
   "cell_type": "markdown",
   "metadata": {},
   "source": [
    "**Nam Huy Nguyen**  \n",
    "Data Scientist"
   ]
  },
  {
   "cell_type": "markdown",
   "metadata": {},
   "source": [
    "*I am interested in data science because it is such a fascinating yet practical profession, which requires a combination of skills: programming, mathematics and communication, which all play to my strengths.*"
   ]
  },
  {
   "cell_type": "markdown",
   "metadata": {},
   "source": [
    "### The piece of code below finds the average of numbers given in a list"
   ]
  },
  {
   "cell_type": "code",
   "execution_count": 9,
   "metadata": {},
   "outputs": [
    {
     "name": "stdout",
     "output_type": "stream",
     "text": [
      "0.0\n",
      "5.0\n",
      "1.0\n"
     ]
    }
   ],
   "source": [
    "def average_of(lst):\n",
    "    avg = sum(lst)/len(lst)\n",
    "    return avg\n",
    "\n",
    "list1 = [-100,100]\n",
    "list2 = [0,1,2,3,4,6,7,8,9,10]\n",
    "list3 = [0,0,0,0,0,6]\n",
    "\n",
    "print(average_of(list1))\n",
    "print(average_of(list2))\n",
    "print(average_of(list3))"
   ]
  },
  {
   "cell_type": "markdown",
   "metadata": {},
   "source": [
    "List of animals my nan have:  \n",
    "* Doggos  \n",
    "* Cat  \n",
    "* Chickens  \n",
    "* Ducks  \n",
    "* Geese  \n",
    "* Pigs  \n",
    "* Pigeons\n",
    "\n",
    "Table of letters and their pronounciation:\n",
    "\n",
    "| Letter | How to say it |\n",
    "|--------|---------------|\n",
    "|`a`|ey|\n",
    "|`b`|be|\n",
    "|`c`|see|\n",
    "|`d`|dee|\n",
    "|`e`|ee|\n",
    "\n",
    "[Here is a link to my favourite song](https://www.youtube.com/watch?v=dQw4w9WgXcQ&ab_channel=RickAstley)\n",
    "\n"
   ]
  }
 ],
 "metadata": {
  "kernelspec": {
   "display_name": "Python 3 (ipykernel)",
   "language": "python",
   "name": "python3"
  },
  "language_info": {
   "codemirror_mode": {
    "name": "ipython",
    "version": 3
   },
   "file_extension": ".py",
   "mimetype": "text/x-python",
   "name": "python",
   "nbconvert_exporter": "python",
   "pygments_lexer": "ipython3",
   "version": "3.10.9"
  }
 },
 "nbformat": 4,
 "nbformat_minor": 4
}
